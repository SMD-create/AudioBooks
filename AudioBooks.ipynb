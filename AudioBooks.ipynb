{
 "cells": [
  {
   "cell_type": "markdown",
   "id": "0901fbf1",
   "metadata": {},
   "source": [
    "**Task: To develop a Machine Learning Algorithm to predict whether the customer purchases Audio Books again.**"
   ]
  },
  {
   "cell_type": "markdown",
   "id": "a633da04",
   "metadata": {},
   "source": [
    "Import Dependencies and Extract data "
   ]
  },
  {
   "cell_type": "code",
   "execution_count": 1,
   "id": "530c4f04",
   "metadata": {},
   "outputs": [],
   "source": [
    "import numpy as np\n",
    "from sklearn import preprocessing\n",
    "\n",
    "csv_data = np.loadtxt('Audiobooks.csv',delimiter = ',')\n",
    "\n",
    "unscaled = csv_data[:,1:-1]\n",
    "targets = csv_data[:,-1]"
   ]
  },
  {
   "cell_type": "markdown",
   "id": "9e7db81b",
   "metadata": {},
   "source": [
    "Balance the dataset"
   ]
  },
  {
   "cell_type": "code",
   "execution_count": 2,
   "id": "8160c536",
   "metadata": {},
   "outputs": [],
   "source": [
    "one_targets = int(np.sum(targets))\n",
    "counter = 0\n",
    "indices = []\n",
    "\n",
    "for i in range(targets.shape[0]):\n",
    "    if targets[i]==0:\n",
    "        counter+=1\n",
    "        if counter > one_targets:\n",
    "            indices.append(i)\n",
    "\n",
    "unscaled_priors = np.delete(unscaled,indices,axis = 0)\n",
    "targets_priors = np.delete(targets,indices,axis = 0)"
   ]
  },
  {
   "cell_type": "markdown",
   "id": "723b430a",
   "metadata": {},
   "source": [
    "Standardize the inputs"
   ]
  },
  {
   "cell_type": "code",
   "execution_count": 3,
   "id": "d50f2bcc",
   "metadata": {},
   "outputs": [],
   "source": [
    "scaled = preprocessing.scale(unscaled_priors)"
   ]
  },
  {
   "cell_type": "markdown",
   "id": "b1461e61",
   "metadata": {},
   "source": [
    "Shuffle the data"
   ]
  },
  {
   "cell_type": "code",
   "execution_count": 4,
   "id": "afccbd5f",
   "metadata": {},
   "outputs": [],
   "source": [
    "shuffled_indices = np.arange(scaled.shape[0])\n",
    "np.random.shuffle(shuffled_indices)\n",
    "\n",
    "shuffled_inputs = scaled[shuffled_indices]\n",
    "shuffled_targets = targets_priors[shuffled_indices]"
   ]
  },
  {
   "cell_type": "markdown",
   "id": "4b92caf6",
   "metadata": {},
   "source": [
    "Splitting of Dataset"
   ]
  },
  {
   "cell_type": "code",
   "execution_count": 5,
   "id": "b5b28f34",
   "metadata": {},
   "outputs": [
    {
     "name": "stdout",
     "output_type": "stream",
     "text": [
      "1771.0 3579 0.4948309583682593\n",
      "228.0 447 0.5100671140939598\n",
      "238.0 448 0.53125\n"
     ]
    }
   ],
   "source": [
    "sample_count = shuffled_inputs.shape[0]\n",
    "\n",
    "train = int(0.8*sample_count)\n",
    "valid = int(0.1*sample_count)\n",
    "test = sample_count - train - valid\n",
    "\n",
    "train_inputs = shuffled_inputs[:train]\n",
    "train_targets = shuffled_targets[:train]\n",
    "\n",
    "valid_inputs = shuffled_inputs[train:train+valid]\n",
    "valid_targets= shuffled_targets[train:train+valid]\n",
    "\n",
    "test_inputs = shuffled_inputs[train+valid:]\n",
    "test_targets = shuffled_targets[train+valid:]\n",
    "\n",
    "print(np.sum(train_targets),train,np.sum(train_targets) / train)\n",
    "print(np.sum(valid_targets), valid, np.sum(valid_targets) / valid)\n",
    "print(np.sum(test_targets) ,test ,np.sum(test_targets) / test)"
   ]
  },
  {
   "cell_type": "markdown",
   "id": "aa770a13",
   "metadata": {},
   "source": [
    "Save the three sets in .npz format"
   ]
  },
  {
   "cell_type": "code",
   "execution_count": 6,
   "id": "cd781375",
   "metadata": {},
   "outputs": [],
   "source": [
    "np.savez('Audiobooks_data_train',inputs = train_inputs, targets = train_targets)\n",
    "np.savez('Audiobooks_data_valid',inputs = valid_inputs, targets = valid_targets)\n",
    "np.savez('Audiobooks_data_test', inputs = test_inputs , targets = test_targets)"
   ]
  },
  {
   "cell_type": "markdown",
   "id": "bbcc5937",
   "metadata": {},
   "source": [
    "Creating the Machine Learning Algorithm"
   ]
  },
  {
   "cell_type": "markdown",
   "id": "fe87a36d",
   "metadata": {},
   "source": [
    "Importing Libraries"
   ]
  },
  {
   "cell_type": "code",
   "execution_count": 7,
   "id": "974a4634",
   "metadata": {},
   "outputs": [
    {
     "name": "stdout",
     "output_type": "stream",
     "text": [
      "WARNING:tensorflow:From D:\\SOFWARES\\Studies softwares\\Anaconda\\Lib\\site-packages\\keras\\src\\losses.py:2976: The name tf.losses.sparse_softmax_cross_entropy is deprecated. Please use tf.compat.v1.losses.sparse_softmax_cross_entropy instead.\n",
      "\n"
     ]
    }
   ],
   "source": [
    "import tensorflow as tf"
   ]
  },
  {
   "cell_type": "code",
   "execution_count": 8,
   "id": "e8f1e5b7",
   "metadata": {},
   "outputs": [
    {
     "name": "stdout",
     "output_type": "stream",
     "text": [
      "2.15.0\n"
     ]
    }
   ],
   "source": [
    "print(tf.__version__)"
   ]
  },
  {
   "cell_type": "code",
   "execution_count": 15,
   "id": "43d38cf0",
   "metadata": {},
   "outputs": [],
   "source": [
    "# let's create a temporary variable npz, where we will store each of the three Audiobooks datasets\n",
    "npz = np.load('Audiobooks_data_train.npz')\n",
    "\n",
    "# we extract the inputs using the keyword under which we saved them\n",
    "# to ensure that they are all floats, let's also take care of that\n",
    "train_inputs = npz['inputs'].astype(float)\n",
    "# targets must be int because of sparse_categorical_crossentropy (we want to be able to smoothly one-hot encode them)\n",
    "train_targets = npz['targets'].astype(int)\n",
    "\n",
    "# we load the validation data in the temporary variable\n",
    "npz = np.load('Audiobooks_data_valid.npz')\n",
    "# we can load the inputs and the targets in the same line\n",
    "validation_inputs, validation_targets = npz['inputs'].astype(float), npz['targets'].astype(int)\n",
    "\n",
    "# we load the test data in the temporary variable\n",
    "npz = np.load('Audiobooks_data_test.npz')\n",
    "# we create 2 variables that will contain the test inputs and the test targets\n",
    "test_inputs, test_targets = npz['inputs'].astype(float), npz['targets'].astype(int)"
   ]
  },
  {
   "cell_type": "markdown",
   "id": "efc39698",
   "metadata": {},
   "source": [
    "# Model"
   ]
  },
  {
   "cell_type": "code",
   "execution_count": 17,
   "id": "71a1c01e",
   "metadata": {
    "scrolled": false
   },
   "outputs": [
    {
     "name": "stdout",
     "output_type": "stream",
     "text": [
      "Epoch 1/100\n",
      "36/36 - 1s - loss: 0.5853 - accuracy: 0.6829 - val_loss: 0.5028 - val_accuracy: 0.7852 - 1s/epoch - 40ms/step\n",
      "Epoch 2/100\n",
      "36/36 - 0s - loss: 0.4659 - accuracy: 0.7687 - val_loss: 0.4129 - val_accuracy: 0.8166 - 186ms/epoch - 5ms/step\n",
      "Epoch 3/100\n",
      "36/36 - 0s - loss: 0.4109 - accuracy: 0.7843 - val_loss: 0.3723 - val_accuracy: 0.8277 - 188ms/epoch - 5ms/step\n",
      "Epoch 4/100\n",
      "36/36 - 0s - loss: 0.3853 - accuracy: 0.7910 - val_loss: 0.3539 - val_accuracy: 0.8277 - 179ms/epoch - 5ms/step\n",
      "Epoch 5/100\n",
      "36/36 - 0s - loss: 0.3707 - accuracy: 0.7994 - val_loss: 0.3451 - val_accuracy: 0.8345 - 173ms/epoch - 5ms/step\n",
      "Epoch 6/100\n",
      "36/36 - 0s - loss: 0.3627 - accuracy: 0.7960 - val_loss: 0.3348 - val_accuracy: 0.8367 - 178ms/epoch - 5ms/step\n",
      "Epoch 7/100\n",
      "36/36 - 0s - loss: 0.3530 - accuracy: 0.8128 - val_loss: 0.3368 - val_accuracy: 0.8210 - 180ms/epoch - 5ms/step\n",
      "Epoch 8/100\n",
      "36/36 - 0s - loss: 0.3487 - accuracy: 0.8066 - val_loss: 0.3274 - val_accuracy: 0.8345 - 190ms/epoch - 5ms/step\n",
      "Epoch 9/100\n",
      "36/36 - 0s - loss: 0.3473 - accuracy: 0.8075 - val_loss: 0.3236 - val_accuracy: 0.8434 - 186ms/epoch - 5ms/step\n",
      "Epoch 10/100\n",
      "36/36 - 0s - loss: 0.3432 - accuracy: 0.8083 - val_loss: 0.3263 - val_accuracy: 0.8300 - 181ms/epoch - 5ms/step\n",
      "Epoch 11/100\n",
      "36/36 - 0s - loss: 0.3420 - accuracy: 0.8080 - val_loss: 0.3207 - val_accuracy: 0.8322 - 172ms/epoch - 5ms/step\n",
      "Epoch 12/100\n",
      "36/36 - 0s - loss: 0.3380 - accuracy: 0.8125 - val_loss: 0.3276 - val_accuracy: 0.8367 - 173ms/epoch - 5ms/step\n",
      "Epoch 13/100\n",
      "36/36 - 0s - loss: 0.3347 - accuracy: 0.8170 - val_loss: 0.3223 - val_accuracy: 0.8412 - 189ms/epoch - 5ms/step\n"
     ]
    },
    {
     "data": {
      "text/plain": [
       "<keras.src.callbacks.History at 0x201f4a70fd0>"
      ]
     },
     "execution_count": 17,
     "metadata": {},
     "output_type": "execute_result"
    }
   ],
   "source": [
    "# Set the input and output sizes\n",
    "input_size = 10\n",
    "output_size = 2\n",
    "# Use same hidden layer size for both hidden layers. Not a necessity.\n",
    "hidden_layer_size = 50\n",
    "    \n",
    "# define how the model will look like\n",
    "model = tf.keras.Sequential([\n",
    "    # tf.keras.layers.Dense is basically implementing: output = activation(dot(input, weight) + bias)\n",
    "    # it takes several arguments, but the most important ones for us are the hidden_layer_size and the activation function\n",
    "    tf.keras.layers.Dense(hidden_layer_size, activation='relu'), # 1st hidden layer\n",
    "    tf.keras.layers.Dense(hidden_layer_size, activation='relu'), # 2nd hidden layer\n",
    "    # the final layer is no different, we just make sure to activate it with softmax\n",
    "    tf.keras.layers.Dense(output_size, activation='softmax') # output layer\n",
    "])\n",
    "\n",
    "\n",
    "### Choose the optimizer and the loss function\n",
    "\n",
    "# we define the optimizer we'd like to use, \n",
    "# the loss function, \n",
    "# and the metrics we are interested in obtaining at each iteration\n",
    "model.compile(optimizer='adam', loss='sparse_categorical_crossentropy', metrics=['accuracy'])\n",
    "\n",
    "### Training\n",
    "# That's where we train the model we have built.\n",
    "\n",
    "# set the batch size\n",
    "batch_size = 100\n",
    "\n",
    "# set a maximum number of training epochs\n",
    "max_epochs = 100\n",
    "\n",
    "# set an early stopping mechanism\n",
    "# let's set patience=2, to be a bit tolerant against random validation loss increases\n",
    "early_stopping = tf.keras.callbacks.EarlyStopping(patience=2)\n",
    "\n",
    "# fit the model\n",
    "# note that this time the train, validation and test data are not iterable\n",
    "model.fit(train_inputs, # train inputs\n",
    "          train_targets, # train targets\n",
    "          batch_size=batch_size, # batch size\n",
    "          epochs=max_epochs, # epochs that we will train for (assuming early stopping doesn't kick in)\n",
    "          # callbacks are functions called by a task when a task is completed\n",
    "          # task here is to check if val_loss is increasing\n",
    "          callbacks=[early_stopping], # early stopping\n",
    "          validation_data=(validation_inputs, validation_targets), # validation data\n",
    "          verbose = 2 # making sure we get enough information about the training process\n",
    "          )  "
   ]
  },
  {
   "cell_type": "markdown",
   "id": "71ab13e2",
   "metadata": {},
   "source": [
    "# Testing"
   ]
  },
  {
   "cell_type": "code",
   "execution_count": 18,
   "id": "1ed66eb2",
   "metadata": {},
   "outputs": [
    {
     "name": "stdout",
     "output_type": "stream",
     "text": [
      "14/14 [==============================] - 0s 4ms/step - loss: 0.3456 - accuracy: 0.8103\n"
     ]
    }
   ],
   "source": [
    "test_loss, test_accuracy = model.evaluate(test_inputs, test_targets)\n"
   ]
  },
  {
   "cell_type": "code",
   "execution_count": 19,
   "id": "b9fbbdcc",
   "metadata": {},
   "outputs": [
    {
     "name": "stdout",
     "output_type": "stream",
     "text": [
      "\n",
      "Test loss: 0.35. Test accuracy: 81.03%\n"
     ]
    }
   ],
   "source": [
    "print('\\nTest loss: {0:.2f}. Test accuracy: {1:.2f}%'.format(test_loss, test_accuracy*100.))\n"
   ]
  },
  {
   "cell_type": "markdown",
   "id": "ce57fe68",
   "metadata": {},
   "source": [
    "# Plot"
   ]
  },
  {
   "cell_type": "code",
   "execution_count": null,
   "id": "556d44b1",
   "metadata": {},
   "outputs": [],
   "source": []
  }
 ],
 "metadata": {
  "kernelspec": {
   "display_name": "Python 3 (ipykernel)",
   "language": "python",
   "name": "python3"
  },
  "language_info": {
   "codemirror_mode": {
    "name": "ipython",
    "version": 3
   },
   "file_extension": ".py",
   "mimetype": "text/x-python",
   "name": "python",
   "nbconvert_exporter": "python",
   "pygments_lexer": "ipython3",
   "version": "3.11.5"
  }
 },
 "nbformat": 4,
 "nbformat_minor": 5
}
